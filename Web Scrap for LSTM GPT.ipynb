{
 "cells": [
  {
   "cell_type": "code",
   "execution_count": 92,
   "id": "05bbe5a8",
   "metadata": {},
   "outputs": [],
   "source": [
    "# !pip install beautifulsoup4\n",
    "# !pip install requests"
   ]
  },
  {
   "cell_type": "code",
   "execution_count": 93,
   "id": "b5cf2482",
   "metadata": {},
   "outputs": [],
   "source": [
    "import pandas as pd  \n",
    "import requests      \n",
    "from bs4 import BeautifulSoup \n",
    "import numpy as np "
   ]
  },
  {
   "cell_type": "code",
   "execution_count": 94,
   "id": "b4bb0756",
   "metadata": {},
   "outputs": [],
   "source": [
    "url = 'https://www.isro.gov.in/Chandrayaan3_New.html'"
   ]
  },
  {
   "cell_type": "code",
   "execution_count": 95,
   "id": "bad65e78",
   "metadata": {},
   "outputs": [],
   "source": [
    "response = requests.get(url)"
   ]
  },
  {
   "cell_type": "code",
   "execution_count": 96,
   "id": "2769108f",
   "metadata": {},
   "outputs": [],
   "source": [
    "soup = BeautifulSoup(response.content, 'html.parser')"
   ]
  },
  {
   "cell_type": "code",
   "execution_count": 97,
   "id": "b8372be8",
   "metadata": {},
   "outputs": [],
   "source": [
    "whole_Text = soup.findAll('div', attrs= {'class': 'col-lg-9 col-md-9 col-sm-9 col-xl-9'})"
   ]
  },
  {
   "cell_type": "code",
   "execution_count": 98,
   "id": "590dd781",
   "metadata": {},
   "outputs": [],
   "source": [
    "texts = soup.find_all('p', class_ = 'pageContent')\n",
    "para0 = texts[0]\n",
    "para1 = texts[1]\n",
    "para2 = texts[2]\n",
    "para3 = texts[3]\n",
    "para4 = texts[4]\n",
    "text = para0.get_text(strip = True),para1.get_text(strip = True),para2.get_text(strip = True),para3.get_text(strip = True),para4.get_text(strip = True)"
   ]
  },
  {
   "cell_type": "code",
   "execution_count": 99,
   "id": "8f710585",
   "metadata": {},
   "outputs": [
    {
     "data": {
      "text/plain": [
       "('Chandrayaan-3 is a follow-on mission to Chandrayaan-2 to demonstrate end-to-end capability in safe landing and roving on the lunar surface. It consists of Lander and Rover configuration. It will be launched by LVM3 from SDSC SHAR, Sriharikota. The propulsion module will carry the lander and rover configuration till 100 km lunar orbit. The propulsion module has Spectro-polarimetry of Habitable Planet Earth (SHAPE) payload to study the spectral and Polari metric measurements of Earth from the lunar orbit.',\n",
       " 'Lander payloads:Chandra’s Surface Thermophysical Experiment (ChaSTE) to measure the thermal conductivity and temperature; Instrument for Lunar Seismic Activity (ILSA) for measuring the seismicity around the landing site; Langmuir Probe (LP) to estimate the plasma density and its variations. A passive Laser Retroreflector Array from NASA is accommodated for lunar laser ranging studies.',\n",
       " 'Rover payloads:Alpha Particle X-ray Spectrometer (APXS) and Laser Induced Breakdown Spectroscope (LIBS) for deriving the elemental composition in the vicinity of landing site.',\n",
       " 'Chandrayaan-3 consists of an indigenous Lander module (LM), Propulsion module (PM) and a Rover with an objective of developing and demonstrating new technologies required for Inter planetary missions. The Lander will have the capability to soft land at a specified lunar site and deploy the Rover which will carry out in-situ chemical analysis of the lunar surface during the course of its mobility. The Lander and the Rover have scientific payloads to carry out experiments on the lunar surface.  The main function of PM is to carry the LM from launch vehicle injection till final lunar 100 km circular polar orbit and separate the LM from PM.   Apart from this, the Propulsion Module also has one scientific payload as a value addition which will be operated post separation of Lander Module. The launcher identified for Chandrayaan-3 is GSLV-Mk3 which will place the integrated module in an Elliptic Parking Orbit (EPO) of size ~170 x 36500 km.',\n",
       " 'The mission objectives of Chandrayaan-3 are:')"
      ]
     },
     "execution_count": 99,
     "metadata": {},
     "output_type": "execute_result"
    }
   ],
   "source": [
    "text"
   ]
  },
  {
   "cell_type": "code",
   "execution_count": 106,
   "id": "605bdd80",
   "metadata": {},
   "outputs": [],
   "source": [
    "Text = str(text)"
   ]
  },
  {
   "cell_type": "code",
   "execution_count": 107,
   "id": "d3cb0258",
   "metadata": {},
   "outputs": [
    {
     "data": {
      "text/plain": [
       "str"
      ]
     },
     "execution_count": 107,
     "metadata": {},
     "output_type": "execute_result"
    }
   ],
   "source": [
    "type(Text)"
   ]
  },
  {
   "cell_type": "code",
   "execution_count": 108,
   "id": "53742d90",
   "metadata": {},
   "outputs": [],
   "source": [
    "with open('URL.txt', 'w') as f:\n",
    "    f.write(Text)"
   ]
  }
 ],
 "metadata": {
  "kernelspec": {
   "display_name": "Python 3 (ipykernel)",
   "language": "python",
   "name": "python3"
  },
  "language_info": {
   "codemirror_mode": {
    "name": "ipython",
    "version": 3
   },
   "file_extension": ".py",
   "mimetype": "text/x-python",
   "name": "python",
   "nbconvert_exporter": "python",
   "pygments_lexer": "ipython3",
   "version": "3.9.12"
  }
 },
 "nbformat": 4,
 "nbformat_minor": 5
}
